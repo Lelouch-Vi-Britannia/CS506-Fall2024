{
 "cells": [
  {
   "attachments": {},
   "cell_type": "markdown",
   "metadata": {},
   "source": [
    "# Worksheet 03\n",
    "\n",
    "Name:  Han Li \n",
    "UID: U64338358 \n",
    "\n",
    "### Topics\n",
    "\n",
    "- Intro to DS\n",
    "\n",
    "### Linear Algebra Review\n",
    "\n",
    "If you need a linear algebra review, please read through the [following pdf](https://github.com/gallettilance/CS506-Fall2024/raw/main/lecture_02/lecture_02_linear_algebra_review.pdf) before next class\n",
    "\n",
    "### Participation\n",
    "\n",
    "Please fill out the [following form](https://forms.gle/XHay822QrZvByirM8)\n",
    "\n",
    "### Intro to Data Science (ungraded)\n",
    "\n",
    "a) what property must a hypothesis have?"
   ]
  },
  {
   "cell_type": "markdown",
   "metadata": {},
   "source": ["A hypothesis must be testable and falsifiable. This means there should be a clear way to evaluate its validity through experiments or observations, and it should be possible to disprove it if evidence contradicts the hypothesis."]
  },
  {
   "cell_type": "markdown",
   "metadata": {},
   "source": [
    "b) what examples would you have wanted to try?"
   ]
  },
  {
   "cell_type": "markdown",
   "metadata": {},
   "source": ["If I were testing a hypothesis, I would want to try diverse examples that test the hypothesis in different conditions or contexts. For example:

Boundary cases: To test the limits of the hypothesis.
Edge cases: To explore situations that might challenge the hypothesis.
Random examples: To ensure robustness.
Extreme examples: To test the hypothesis under the most challenging scenarios."]
  },
  {
   "cell_type": "markdown",
   "metadata": {},
   "source": [
    "c) Given the hypothesis (x, 2x, 3x), for each of the following, determine whether they are positive or negative examples:\n",
    "\n",
    "- (2, 4, 6)\n",
    "- (6, 8 , 10)\n",
    "- (1, 3, 5)"
   ]
  },
  {
   "cell_type": "markdown",
   "metadata": {},
   "source": ["(2, 4, 6)
Hypothesis: (x, 2x, 3x)
Here, x = 2, so the sequence is (2, 4, 6).

This is a positive example because it follows the pattern (x, 2x, 3x).
(6, 8, 10)
Hypothesis: (x, 2x, 3x)
There is no value of x that satisfies the pattern (x, 2x, 3x) for this sequence.

This is a negative example.
(1, 3, 5)
Hypothesis: (x, 2x, 3x)
Here, x = 1, but 2x should be 2, not 3.

This is a negative example."]
  },
  {
   "attachments": {},
   "cell_type": "markdown",
   "metadata": {},
   "source": [
    "d) Describe steps of a Data Science Workflow"
   ]
  },
  {
   "cell_type": "markdown",
   "metadata": {},
   "source": []
  },
  {
   "attachments": {},
   "cell_type": "markdown",
   "metadata": {},
   "source": [
    "e) Give a real world example for each of the following data types:\n",
    "\n",
    "- record\n",
    "- graph\n",
    "- image\n",
    "- text"
   ]
  },
  {
   "cell_type": "markdown",
   "metadata": {},
   "source": [Problem Definition: Understand the problem and define the objective.
Data Collection: Gather data relevant to the problem.
Data Cleaning: Remove or correct errors, handle missing values, and prepare the data.
Exploratory Data Analysis (EDA): Explore the data to find patterns, correlations, or insights.
Feature Engineering: Select or create features that help improve model performance.
Modeling: Apply machine learning algorithms or statistical models to the data.
Evaluation: Assess the model's performance using metrics (e.g., accuracy, precision, recall).
Deployment: Implement the model in a production environment.
Monitoring: Track the performance of the model over time and update it as needed.]
  },
  {
   "attachments": {},
   "cell_type": "markdown",
   "metadata": {},
   "source": [
    "f) Give a real world example of unsupervised learning"
   ]
  },
  {
   "cell_type": "markdown",
   "metadata": {},
   "source": ["Clustering unkown customer data"]
  },
  {
   "attachments": {},
   "cell_type": "markdown",
   "metadata": {},
   "source": [
    "g) Give a real world example of supervised learning"
   ]
  },
  {
   "cell_type": "markdown",
   "metadata": {},
   "source": ["Image recognition for cats"]
  }
 ],
 "metadata": {
  "kernelspec": {
   "display_name": "Python 3",
   "language": "python",
   "name": "python3"
  },
  "language_info": {
   "codemirror_mode": {
    "name": "ipython",
    "version": 3
   },
   "file_extension": ".py",
   "mimetype": "text/x-python",
   "name": "python",
   "nbconvert_exporter": "python",
   "pygments_lexer": "ipython3",
   "version": "3.11.1"
  },
  "orig_nbformat": 4,
  "vscode": {
   "interpreter": {
    "hash": "e7370f93d1d0cde622a1f8e1c04877d8463912d04d973331ad4851f04de6915a"
   }
  }
 },
 "nbformat": 4,
 "nbformat_minor": 2
}
